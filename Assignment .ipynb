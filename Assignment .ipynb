{
 "cells": [
  {
   "cell_type": "code",
   "execution_count": 1,
   "id": "c441751f",
   "metadata": {},
   "outputs": [],
   "source": [
    "import requests\n",
    "import pandas as pd\n",
    "\n",
    "class ScriptData:\n",
    "    def __init__(self, api_key):\n",
    "        self.api_key = api_key\n",
    "        self.data = {}\n",
    "\n",
    "    def fetch_intraday_data(self, script):\n",
    "        url = f\"https://www.alphavantage.co/query?function=TIME_SERIES_INTRADAY&symbol={script}&interval=1min&apikey={self.api_key}\"\n",
    "        response = requests.get(url)\n",
    "        data = response.json()\n",
    "        self.data[script] = data['Time Series (1min)']\n",
    "    \n",
    "    def convert_intraday_data(self, script):\n",
    "        raw_data = self.data[script]\n",
    "        timestamp = [pd.Timestamp(time) for time in raw_data.keys()]\n",
    "        open_price = [float(raw_data[time]['1. open']) for time in raw_data.keys()]\n",
    "        high = [float(raw_data[time]['2. high']) for time in raw_data.keys()]\n",
    "        low = [float(raw_data[time]['3. low']) for time in raw_data.keys()]\n",
    "        close = [float(raw_data[time]['4. close']) for time in raw_data.keys()]\n",
    "        volume = [int(raw_data[time]['5. volume']) for time in raw_data.keys()]\n",
    "        self.data[script] = pd.DataFrame({'timestamp': timestamp,\n",
    "                                          'open': open_price,\n",
    "                                          'high': high,\n",
    "                                          'low': low,\n",
    "                                          'close': close,\n",
    "                                          'volume': volume})\n",
    "    \n",
    "    def __getitem__(self, script):\n",
    "        return self.data[script]\n",
    "    \n",
    "    def __setitem__(self, script, value):\n",
    "        self.data[script] = value\n",
    "    \n",
    "    def __contains__(self, script):\n",
    "        return script in self.data\n",
    "\n",
    "def indicator1(df, timeperiod):\n",
    "    indicator = df['close'].rolling(window=timeperiod).mean()\n",
    "    return pd.DataFrame({'timestamp': df['timestamp'], 'indicator': indicator})\n"
   ]
  },
  {
   "cell_type": "code",
   "execution_count": 2,
   "id": "fbf61930",
   "metadata": {},
   "outputs": [],
   "source": [
    "# Initialize ScriptData class\n",
    "api_key = \"CKQP8IMGJH343SBG\"\n",
    "script_data = ScriptData(api_key)\n",
    "\n",
    "# Fetch intraday data for Google\n",
    "script_data.fetch_intraday_data(\"GOOGL\")\n",
    "\n",
    "# Convert fetched data to pandas DataFrame\n",
    "script_data.convert_intraday_data(\"GOOGL\")\n",
    "df = script_data[\"GOOGL\"]\n",
    "\n",
    "\n"
   ]
  },
  {
   "cell_type": "code",
   "execution_count": 3,
   "id": "46cb24cc",
   "metadata": {},
   "outputs": [
    {
     "name": "stdout",
     "output_type": "stream",
     "text": [
      "             timestamp     open     high      low    close  volume\n",
      "0  2023-03-02 20:00:00  91.8500  91.8500  91.8500  91.8500     350\n",
      "1  2023-03-02 19:57:00  91.7500  91.7500  91.7500  91.7500     109\n",
      "2  2023-03-02 19:55:00  91.7500  91.7500  91.7500  91.7500     165\n",
      "3  2023-03-02 19:53:00  91.8500  91.8500  91.8500  91.8500     100\n",
      "4  2023-03-02 19:44:00  91.7900  91.7900  91.7900  91.7900     201\n",
      "..                 ...      ...      ...      ...      ...     ...\n",
      "95 2023-03-02 16:17:00  91.9000  91.9000  91.9000  91.9000    1192\n",
      "96 2023-03-02 16:16:00  91.9600  91.9600  91.9000  91.9000    2048\n",
      "97 2023-03-02 16:15:00  91.9600  92.0000  91.9600  92.0000   49991\n",
      "98 2023-03-02 16:14:00  91.9000  91.9300  91.9000  91.9300     553\n",
      "99 2023-03-02 16:13:00  91.9567  91.9567  91.9567  91.9567     609\n",
      "\n",
      "[100 rows x 6 columns]\n"
     ]
    }
   ],
   "source": [
    "print(df)"
   ]
  },
  {
   "cell_type": "code",
   "execution_count": 4,
   "id": "ed31866b",
   "metadata": {},
   "outputs": [],
   "source": [
    "if \"AAPL\" in script_data:\n",
    "    print(\"AAPL data found.\")"
   ]
  },
  {
   "cell_type": "code",
   "execution_count": 5,
   "id": "990177a2",
   "metadata": {},
   "outputs": [],
   "source": [
    "# Calculate moving average indicator\n",
    "indicator_df = indicator1(df, 5)"
   ]
  },
  {
   "cell_type": "code",
   "execution_count": 6,
   "id": "fd1bedb3",
   "metadata": {},
   "outputs": [
    {
     "name": "stdout",
     "output_type": "stream",
     "text": [
      "             timestamp  indicator\n",
      "0  2023-03-02 20:00:00        NaN\n",
      "1  2023-03-02 19:57:00        NaN\n",
      "2  2023-03-02 19:55:00        NaN\n",
      "3  2023-03-02 19:53:00        NaN\n",
      "4  2023-03-02 19:44:00   91.79800\n",
      "..                 ...        ...\n",
      "95 2023-03-02 16:17:00   91.89228\n",
      "96 2023-03-02 16:16:00   91.89428\n",
      "97 2023-03-02 16:15:00   91.91628\n",
      "98 2023-03-02 16:14:00   91.92628\n",
      "99 2023-03-02 16:13:00   91.93734\n",
      "\n",
      "[100 rows x 2 columns]\n"
     ]
    }
   ],
   "source": [
    "print(indicator_df)"
   ]
  },
  {
   "cell_type": "code",
   "execution_count": 21,
   "id": "48ff4356",
   "metadata": {},
   "outputs": [],
   "source": [
    "class Strategy:\n",
    "    def __init__(self, api_key):\n",
    "        self.api_key = api_key\n",
    "    \n",
    "    def generate_signals(self, script):\n",
    "        script_data = ScriptData(api_key=self.api_key)\n",
    "        script_data.fetch_intraday_data(script)\n",
    "        script_data.convert_intraday_data(script)\n",
    "        df = script_data[script]\n",
    "        indicator_data = indicator1(df, timeperiod=20)['indicator']\n",
    "        close_data = df['close']\n",
    "        signals = pd.DataFrame({'timestamp': df['timestamp']})\n",
    "        signals.loc[indicator_data > close_data, 'signal'] = 'BUY'\n",
    "        signals.loc[indicator_data < close_data, 'signal'] = 'SELL'\n",
    "        signals.loc[indicator_data == close_data, 'signal'] = 'NO_SIGNAL'\n",
    "        return signals\n"
   ]
  },
  {
   "cell_type": "code",
   "execution_count": 26,
   "id": "ed2721bc",
   "metadata": {},
   "outputs": [
    {
     "name": "stdout",
     "output_type": "stream",
     "text": [
      "             timestamp signal\n",
      "19 2023-03-02 19:34:00    BUY\n",
      "20 2023-03-02 19:33:00    BUY\n",
      "21 2023-03-02 19:32:00    BUY\n",
      "22 2023-03-02 19:31:00    BUY\n",
      "23 2023-03-02 19:30:00    BUY\n",
      "..                 ...    ...\n",
      "95 2023-03-02 17:32:00   SELL\n",
      "96 2023-03-02 17:31:00   SELL\n",
      "97 2023-03-02 17:30:00   SELL\n",
      "98 2023-03-02 17:29:00   SELL\n",
      "99 2023-03-02 17:27:00   SELL\n",
      "\n",
      "[81 rows x 2 columns]\n"
     ]
    }
   ],
   "source": [
    "my_strategy = Strategy(api_key= \"CKQP8IMGJH343SBG\")\n",
    "script = 'NVDA'\n",
    "\n",
    "signals = my_strategy.generate_signals(script)\n",
    "buy_sell_signals = signals.loc[(signals['signal'] == 'BUY') | (signals['signal'] == 'SELL')]\n",
    "\n",
    "print(buy_sell_signals)"
   ]
  },
  {
   "cell_type": "code",
   "execution_count": null,
   "id": "9a2e29fc",
   "metadata": {},
   "outputs": [],
   "source": []
  },
  {
   "cell_type": "code",
   "execution_count": null,
   "id": "84d99ce6",
   "metadata": {},
   "outputs": [],
   "source": []
  },
  {
   "cell_type": "code",
   "execution_count": null,
   "id": "d39e93c5",
   "metadata": {},
   "outputs": [],
   "source": []
  }
 ],
 "metadata": {
  "kernelspec": {
   "display_name": "Python 3 (ipykernel)",
   "language": "python",
   "name": "python3"
  },
  "language_info": {
   "codemirror_mode": {
    "name": "ipython",
    "version": 3
   },
   "file_extension": ".py",
   "mimetype": "text/x-python",
   "name": "python",
   "nbconvert_exporter": "python",
   "pygments_lexer": "ipython3",
   "version": "3.11.2"
  }
 },
 "nbformat": 4,
 "nbformat_minor": 5
}
