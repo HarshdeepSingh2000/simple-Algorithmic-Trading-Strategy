{
 "cells": [
  {
   "cell_type": "code",
   "execution_count": 1,
   "id": "c441751f",
   "metadata": {},
   "outputs": [],
   "source": [
    "import requests\n",
    "import pandas as pd\n",
    "\n",
    "class ScriptData:\n",
    "    def __init__(self, api_key):\n",
    "        self.api_key = api_key\n",
    "        self.data = {}\n",
    "\n",
    "    def fetch_intraday_data(self, script):\n",
    "        url = f\"https://www.alphavantage.co/query?function=TIME_SERIES_INTRADAY&symbol={script}&interval=1min&apikey={self.api_key}\"\n",
    "        response = requests.get(url)\n",
    "        data = response.json()\n",
    "        self.data[script] = data['Time Series (1min)']\n",
    "    \n",
    "    def convert_intraday_data(self, script):\n",
    "        raw_data = self.data[script]\n",
    "        timestamp = [pd.Timestamp(time) for time in raw_data.keys()]\n",
    "        open_price = [float(raw_data[time]['1. open']) for time in raw_data.keys()]\n",
    "        high = [float(raw_data[time]['2. high']) for time in raw_data.keys()]\n",
    "        low = [float(raw_data[time]['3. low']) for time in raw_data.keys()]\n",
    "        close = [float(raw_data[time]['4. close']) for time in raw_data.keys()]\n",
    "        volume = [int(raw_data[time]['5. volume']) for time in raw_data.keys()]\n",
    "        self.data[script] = pd.DataFrame({'timestamp': timestamp,\n",
    "                                          'open': open_price,\n",
    "                                          'high': high,\n",
    "                                          'low': low,\n",
    "                                          'close': close,\n",
    "                                          'volume': volume})\n",
    "    \n",
    "    def __getitem__(self, script):\n",
    "        return self.data[script]\n",
    "    \n",
    "    def __setitem__(self, script, value):\n",
    "        self.data[script] = value\n",
    "    \n",
    "    def __contains__(self, script):\n",
    "        return script in self.data\n",
    "\n",
    "def indicator1(df, timeperiod):\n",
    "    indicator = df['close'].rolling(window=timeperiod).mean()\n",
    "    return pd.DataFrame({'timestamp': df['timestamp'], 'indicator': indicator})\n"
   ]
  },
  {
   "cell_type": "code",
   "execution_count": 2,
   "id": "fbf61930",
   "metadata": {},
   "outputs": [],
   "source": [
    "# Initialize ScriptData class\n",
    "api_key = \"CKQP8IMGJH343SBG\"\n",
    "script_data = ScriptData(api_key)\n",
    "\n",
    "# Fetch intraday data for Google\n",
    "script_data.fetch_intraday_data(\"GOOGL\")\n",
    "\n",
    "# Convert fetched data to pandas DataFrame\n",
    "script_data.convert_intraday_data(\"GOOGL\")\n",
    "df = script_data[\"GOOGL\"]\n",
    "\n",
    "\n"
   ]
  },
  {
   "cell_type": "code",
   "execution_count": 3,
   "id": "46cb24cc",
   "metadata": {},
   "outputs": [
    {
     "name": "stdout",
     "output_type": "stream",
     "text": [
      "             timestamp     open     high      low    close  volume\n",
      "0  2023-02-10 20:00:00  94.6100  94.6900  94.5900  94.6900    1042\n",
      "1  2023-02-10 19:59:00  94.6100  94.6400  94.6100  94.6400    1230\n",
      "2  2023-02-10 19:58:00  94.6001  94.6001  94.6000  94.6000     628\n",
      "3  2023-02-10 19:57:00  94.5800  94.5800  94.5800  94.5800     289\n",
      "4  2023-02-10 19:56:00  94.5900  94.5900  94.5900  94.5900     237\n",
      "..                 ...      ...      ...      ...      ...     ...\n",
      "95 2023-02-10 17:20:00  94.5200  94.5200  94.5200  94.5200     282\n",
      "96 2023-02-10 17:18:00  94.5400  94.5400  94.5400  94.5400     380\n",
      "97 2023-02-10 17:15:00  94.5200  94.5400  94.5200  94.5400    1287\n",
      "98 2023-02-10 17:13:00  94.5558  94.5558  94.5558  94.5558     384\n",
      "99 2023-02-10 17:12:00  94.5500  94.5500  94.5500  94.5500     290\n",
      "\n",
      "[100 rows x 6 columns]\n"
     ]
    }
   ],
   "source": [
    "print(df)"
   ]
  },
  {
   "cell_type": "code",
   "execution_count": 4,
   "id": "ed31866b",
   "metadata": {},
   "outputs": [],
   "source": [
    "if \"AAPL\" in script_data:\n",
    "    print(\"AAPL data found.\")"
   ]
  },
  {
   "cell_type": "code",
   "execution_count": 5,
   "id": "990177a2",
   "metadata": {},
   "outputs": [],
   "source": [
    "# Calculate moving average indicator\n",
    "indicator_df = indicator1(df, 5)"
   ]
  },
  {
   "cell_type": "code",
   "execution_count": 6,
   "id": "fd1bedb3",
   "metadata": {},
   "outputs": [
    {
     "name": "stdout",
     "output_type": "stream",
     "text": [
      "             timestamp  indicator\n",
      "0  2023-02-10 20:00:00        NaN\n",
      "1  2023-02-10 19:59:00        NaN\n",
      "2  2023-02-10 19:58:00        NaN\n",
      "3  2023-02-10 19:57:00        NaN\n",
      "4  2023-02-10 19:56:00   94.62000\n",
      "..                 ...        ...\n",
      "95 2023-02-10 17:20:00   94.52880\n",
      "96 2023-02-10 17:18:00   94.53280\n",
      "97 2023-02-10 17:15:00   94.53180\n",
      "98 2023-02-10 17:13:00   94.53516\n",
      "99 2023-02-10 17:12:00   94.54116\n",
      "\n",
      "[100 rows x 2 columns]\n"
     ]
    }
   ],
   "source": [
    "print(indicator_df)"
   ]
  },
  {
   "cell_type": "code",
   "execution_count": 7,
   "id": "48ff4356",
   "metadata": {},
   "outputs": [],
   "source": [
    "\n",
    "\n",
    "class Strategy:\n",
    "    def __init__(self, script, timeperiod=14):\n",
    "        self.script = script\n",
    "        self.timeperiod = timeperiod\n",
    "        self.script_data = ScriptData()\n",
    "    \n",
    "    def generate_signals(self):\n",
    "        # Fetch intraday data\n",
    "        self.script_data.fetch_intraday_data(self.script)\n",
    "        df = self.script_data.convert_intraday_data(self.script)\n",
    "        close_data = df['close']\n",
    "        \n",
    "        # Compute indicator data\n",
    "        indicator_df = indicator1(df, self.timeperiod)\n",
    "        indicator_data = indicator_df['indicator']\n",
    "        \n",
    "        signals = pd.DataFrame(columns=['timestamp', 'signal'])\n",
    "        signals['timestamp'] = df['timestamp']\n",
    "        \n",
    "        signals['signal'] = 'NO_SIGNAL'\n",
    "        signals.loc[(close_data < indicator_data) & (close_data.shift(1) > indicator_data.shift(1)), 'signal'] = 'SELL'\n",
    "        signals.loc[(close_data > indicator_data) & (close_data.shift(1) < indicator_data.shift(1)), 'signal'] = 'BUY'\n",
    "        \n",
    "        return signals\n"
   ]
  },
  {
   "cell_type": "code",
   "execution_count": null,
   "id": "71431764",
   "metadata": {},
   "outputs": [],
   "source": []
  }
 ],
 "metadata": {
  "kernelspec": {
   "display_name": "Python 3 (ipykernel)",
   "language": "python",
   "name": "python3"
  },
  "language_info": {
   "codemirror_mode": {
    "name": "ipython",
    "version": 3
   },
   "file_extension": ".py",
   "mimetype": "text/x-python",
   "name": "python",
   "nbconvert_exporter": "python",
   "pygments_lexer": "ipython3",
   "version": "3.11.2"
  }
 },
 "nbformat": 4,
 "nbformat_minor": 5
}
